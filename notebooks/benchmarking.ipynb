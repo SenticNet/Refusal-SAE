{
 "cells": [
  {
   "cell_type": "markdown",
   "id": "432f788c",
   "metadata": {},
   "source": [
    "# Benchmark the feature finding approach against conventional ones\n",
    "\n",
    "1) Use jailbreakbench/harmbench/adv bench to eval the performance. (100 examples)\n",
    "2) Compare CE loss on Pile/Alpaca\n",
    "3) Compare capability perf on GSM8K/MMLU/ARC\n",
    "\n",
    "1)- Compare against just topk cosine sim, topk act diff, linear attribution (SMarks) - ensure all feature set are same size\n",
    "\n",
    "2/3)- Compare against w/o clamping\n"
   ]
  },
  {
   "cell_type": "code",
   "execution_count": 1,
   "id": "c7c305b5",
   "metadata": {},
   "outputs": [
    {
     "data": {
      "text/plain": [
       "<torch.autograd.grad_mode.set_grad_enabled at 0x1554377e2170>"
      ]
     },
     "execution_count": 1,
     "metadata": {},
     "output_type": "execute_result"
    }
   ],
   "source": [
    "from utils.utils import *\n",
    "from utils.plot_utils import *\n",
    "from utils.data_utils import *\n",
    "from utils.eval_refusal import *\n",
    "from utils.attribution_utils import *\n",
    "from utils.model_utils import *\n",
    "from tqdm import tqdm\n",
    "from collections import defaultdict\n",
    "import os\n",
    "import numpy as np\n",
    "import torch.nn.functional as F\n",
    "import pickle\n",
    "from copy import deepcopy\n",
    "import requests\n",
    "import pandas as pd\n",
    "\n",
    "with open('openai_key.txt','r') as f:\n",
    "    openai_key = f.read().strip()\n",
    "os.environ['OPENAI_API_KEY'] = openai_key\n",
    "\n",
    "seed = 42\n",
    "torch.manual_seed(seed)\n",
    "np.random.seed(seed)\n",
    "torch.set_grad_enabled(False) # rmb set to true for grads"
   ]
  },
  {
   "cell_type": "code",
   "execution_count": 2,
   "id": "211fa7ce",
   "metadata": {},
   "outputs": [
    {
     "data": {
      "application/vnd.jupyter.widget-view+json": {
       "model_id": "5b142a351bd64a218c5f7cece390aaf9",
       "version_major": 2,
       "version_minor": 0
      },
      "text/plain": [
       "Loading checkpoint shards:   0%|          | 0/2 [00:00<?, ?it/s]"
      ]
     },
     "metadata": {},
     "output_type": "display_data"
    },
    {
     "name": "stderr",
     "output_type": "stream",
     "text": [
      "WARNING:root:With reduced precision, it is advised to use `from_pretrained_no_processing` instead of `from_pretrained`.\n"
     ]
    },
    {
     "name": "stdout",
     "output_type": "stream",
     "text": [
      "Loaded pretrained model google/gemma-2-2b-it into HookedTransformer\n"
     ]
    }
   ],
   "source": [
    "# Load model and SAE\n",
    "\n",
    "device = 'cuda:1'\n",
    "torch_dtype = torch.bfloat16\n",
    "model_name = \"gemma-2b\"\n",
    "# model_name = 'llama'\n",
    "model = load_tl_model(model_name,device = device, torch_dtype = torch_dtype)\n",
    "num_sae_layer = model.cfg.n_layers\n",
    "saes = load_sae(model_name,num_sae_layer,device=device, torch_dtype=torch_dtype,split_device = False)\n",
    "size = model_sizes[model_name]\n",
    "model.model_name = model_name\n"
   ]
  },
  {
   "cell_type": "markdown",
   "id": "e6c9cb96",
   "metadata": {},
   "source": [
    "# Neuronpedia"
   ]
  },
  {
   "cell_type": "code",
   "execution_count": 1,
   "id": "9804b830",
   "metadata": {},
   "outputs": [],
   "source": [
    "from IPython.display import IFrame\n",
    "saes_descriptions = defaultdict(defaultdict)\n",
    "comps = ['res']\n",
    "\n",
    "if 'gemma' in model_name.lower(): # llama cant export for some reason, only can take ad-hoc feature\n",
    "    \n",
    "    neuropedia_path = f'{model_name}_res_neuropedia.pkl'\n",
    "    if not os.path.exists(neuropedia_path): # takes 5 min, just cache them for later use.\n",
    "        for layer in tqdm(range(num_sae_layer),total = num_sae_layer):\n",
    "            for comp in comps:\n",
    "                url = f\"https://www.neuronpedia.org/api/explanation/export?modelId=gemma-2-{model_name.split('-')[-1]}&saeId={layer}-gemmascope-{comp}-{size}\"\n",
    "                headers = {\"Content-Type\": \"application/json\"}\n",
    "\n",
    "                response = requests.get(url, headers=headers)\n",
    "                data = response.json()\n",
    "                explanations_df = pd.DataFrame(data)\n",
    "                # # rename index to \"feature\"\n",
    "                explanations_df.rename(columns={\"index\": \"feature\"}, inplace=True)\n",
    "                explanations_df[\"feature\"] = explanations_df[\"feature\"].astype(int)\n",
    "                explanations_df[\"description\"] = explanations_df[\"description\"].apply(\n",
    "                    lambda x: x.lower()\n",
    "                )\n",
    "                saes_descriptions[layer][comp] = explanations_df\n",
    "        with open(neuropedia_path,'wb') as f:\n",
    "            pickle.dump(saes_descriptions,f)\n",
    "    else:\n",
    "        with open(neuropedia_path,'rb') as f:\n",
    "            saes_descriptions = pickle.load(f)\n",
    "\n",
    "def get_feat_description(feat,layer,comp = 'res'): # get the description given feature and layer\n",
    "    if 'gemma' in model_name:\n",
    "        df = saes_descriptions[layer][comp]\n",
    "        try:\n",
    "            return df[df[\"feature\"] == feat][\"description\"].iloc[0]\n",
    "        except:\n",
    "            return \"No description found\"\n",
    "    else:\n",
    "        api_url = \"https://www.neuronpedia.org/api/feature/llama3.1-8b/{l}-llamascope-res-{size}/{f}\"\n",
    "        try:\n",
    "            data = requests.get(api_url.format(l=layer,f=feat,size= size)).json()\n",
    "            return data[\"explanations\"][0][\"description\"]\n",
    "        except:\n",
    "            return \"No description found\"\n",
    "\n",
    "html_template = \"https://neuronpedia.org/{}/{}/{}?embed=true&embedexplanation=true&embedplots=true&embedtest=true&height=300\"\n",
    "\n",
    "def get_dashboard_html(model = \"gemma-2-2b\", layer=0, feature_idx=0):\n",
    "    html_ = html_template.format(model, f'{layer}-{\"gemmascope\" if \"gemma\" in model else \"llamascope\"}-res-{size}', feature_idx)\n",
    "    return html_\n",
    "\n",
    "def get_max_act_approx(layer, feature_idx): # some fn to get the max act of a feature\n",
    "    url = f\"https://www.neuronpedia.org/api/feature/{'gemma-2-2b' if 'gemma' in model_name else 'llama3.1-8b'}/{layer}-{'gemmascope' if 'gemma' in model_name else 'llamascope'}-res-{size}/{feature_idx}\"\n",
    "\n",
    "    headers = {\"X-Api-Key\": \"YOUR_SECRET_TOKEN\"}\n",
    "\n",
    "    response = requests.get(url, headers=headers)\n",
    "\n",
    "    return response.json()['maxActApprox']"
   ]
  },
  {
   "cell_type": "code",
   "execution_count": 2,
   "id": "ad6cae89",
   "metadata": {},
   "outputs": [
    {
     "name": "stdout",
     "output_type": "stream",
     "text": [
      "INFO 05-30 12:01:37 __init__.py:190] Automatically detected platform cuda.\n",
      "INFO 05-30 12:01:47 config.py:542] This model supports multiple tasks: {'embed', 'score', 'reward', 'classify', 'generate'}. Defaulting to 'generate'.\n",
      "INFO 05-30 12:01:47 llm_engine.py:234] Initializing a V0 LLM engine (v0.7.2) with config: model='cais/HarmBench-Llama-2-13b-cls', speculative_config=None, tokenizer='cais/HarmBench-Llama-2-13b-cls', skip_tokenizer_init=False, tokenizer_mode=auto, revision=None, override_neuron_config=None, tokenizer_revision=None, trust_remote_code=False, dtype=torch.bfloat16, max_seq_len=2048, download_dir=None, load_format=auto, tensor_parallel_size=1, pipeline_parallel_size=1, disable_custom_all_reduce=False, quantization=None, enforce_eager=False, kv_cache_dtype=auto,  device_config=cuda, decoding_config=DecodingConfig(guided_decoding_backend='xgrammar'), observability_config=ObservabilityConfig(otlp_traces_endpoint=None, collect_model_forward_time=False, collect_model_execute_time=False), seed=0, served_model_name=cais/HarmBench-Llama-2-13b-cls, num_scheduler_steps=1, multi_step_stream_outputs=True, enable_prefix_caching=False, chunked_prefill_enabled=False, use_async_output_proc=True, disable_mm_preprocessor_cache=False, mm_processor_kwargs=None, pooler_config=None, compilation_config={\"splitting_ops\":[],\"compile_sizes\":[],\"cudagraph_capture_sizes\":[256,248,240,232,224,216,208,200,192,184,176,168,160,152,144,136,128,120,112,104,96,88,80,72,64,56,48,40,32,24,16,8,4,2,1],\"max_capture_size\":256}, use_cached_outputs=False, \n",
      "INFO 05-30 12:01:49 cuda.py:230] Using Flash Attention backend.\n",
      "INFO 05-30 12:01:50 model_runner.py:1110] Starting to load model cais/HarmBench-Llama-2-13b-cls...\n",
      "INFO 05-30 12:01:50 weight_utils.py:252] Using model weights format ['*.safetensors']\n"
     ]
    },
    {
     "data": {
      "application/vnd.jupyter.widget-view+json": {
       "model_id": "f77adab2a0194d2f9f84ee1578ac81d0",
       "version_major": 2,
       "version_minor": 0
      },
      "text/plain": [
       "Loading safetensors checkpoint shards:   0% Completed | 0/6 [00:00<?, ?it/s]\n"
      ]
     },
     "metadata": {},
     "output_type": "display_data"
    },
    {
     "name": "stdout",
     "output_type": "stream",
     "text": [
      "INFO 05-30 12:01:54 model_runner.py:1115] Loading model weights took 24.2836 GB\n",
      "INFO 05-30 12:01:55 worker.py:267] Memory profiling takes 0.61 seconds\n",
      "INFO 05-30 12:01:55 worker.py:267] the current vLLM instance can use total_gpu_memory (79.33GiB) x gpu_memory_utilization (0.40) = 31.73GiB\n",
      "INFO 05-30 12:01:55 worker.py:267] model weights take 24.28GiB; non_torch_memory takes 0.14GiB; PyTorch activation peak memory takes 0.34GiB; the rest of the memory reserved for KV Cache is 6.97GiB.\n",
      "INFO 05-30 12:01:55 executor_base.py:110] # CUDA blocks: 570, # CPU blocks: 327\n",
      "INFO 05-30 12:01:55 executor_base.py:115] Maximum concurrency for 2048 tokens per request: 4.45x\n",
      "INFO 05-30 12:01:56 model_runner.py:1434] Capturing cudagraphs for decoding. This may lead to unexpected consequences if the model is not static. To run the model in eager mode, set 'enforce_eager=True' or use '--enforce-eager' in the CLI. If out-of-memory error occurs during cudagraph capture, consider decreasing `gpu_memory_utilization` or switching to eager mode. You can also reduce the `max_num_seqs` as needed to decrease memory usage.\n"
     ]
    },
    {
     "name": "stderr",
     "output_type": "stream",
     "text": [
      "Capturing CUDA graph shapes: 100%|██████████████████████████████████████████████████████████████████| 35/35 [00:18<00:00,  1.88it/s]"
     ]
    },
    {
     "name": "stdout",
     "output_type": "stream",
     "text": [
      "INFO 05-30 12:02:15 model_runner.py:1562] Graph capturing finished in 19 secs, took 1.15 GiB\n",
      "INFO 05-30 12:02:15 llm_engine.py:431] init engine (profile, create kv cache, warmup model) took 21.15 seconds\n"
     ]
    },
    {
     "name": "stderr",
     "output_type": "stream",
     "text": [
      "\n"
     ]
    }
   ],
   "source": [
    "# Load hb classifier\n",
    "hb_model = load_harmbench_classifier(use_vllm=True)"
   ]
  },
  {
   "cell_type": "markdown",
   "id": "8417a844",
   "metadata": {},
   "source": [
    "# Load harmless (Alpaca) and harmful"
   ]
  },
  {
   "cell_type": "code",
   "execution_count": 5,
   "id": "690403d9",
   "metadata": {},
   "outputs": [
    {
     "name": "stdout",
     "output_type": "stream",
     "text": [
      "Base refusal on harmless dataset acc (single token): 0.01\n",
      "Filtered harmful samples: 126\n",
      "Filtered harmless samples: 127, Val harmless samples: 197\n"
     ]
    },
    {
     "name": "stderr",
     "output_type": "stream",
     "text": [
      " 33%|███████████████████████████████████████                                                                              | 1/3 [00:36<01:12, 36.38s/it]"
     ]
    },
    {
     "name": "stdout",
     "output_type": "stream",
     "text": [
      "Base refusal on harmbench_test jb: 0.00, refusal: 1.00\n"
     ]
    },
    {
     "name": "stderr",
     "output_type": "stream",
     "text": [
      " 67%|██████████████████████████████████████████████████████████████████████████████                                       | 2/3 [01:12<00:36, 36.44s/it]"
     ]
    },
    {
     "name": "stdout",
     "output_type": "stream",
     "text": [
      "Base refusal on jailbreakbench jb: 0.01, refusal: 0.97\n"
     ]
    },
    {
     "name": "stderr",
     "output_type": "stream",
     "text": [
      "100%|█████████████████████████████████████████████████████████████████████████████████████████████████████████████████████| 3/3 [01:49<00:00, 36.39s/it]"
     ]
    },
    {
     "name": "stdout",
     "output_type": "stream",
     "text": [
      "Base refusal on advbench jb: 0.00, refusal: 1.00\n"
     ]
    },
    {
     "name": "stderr",
     "output_type": "stream",
     "text": [
      "\n"
     ]
    }
   ],
   "source": [
    "bz = 64 if 'gemma' in model_name else 50\n",
    "N_test = 100\n",
    "harmful_train, harmless_train, _, harmless_val = load_refusal_datasets(val_size=200) # get 200 and filter out so we can use it later for validation\n",
    "\n",
    "is_base_harmless,base_harmless_logit = batch_single(harmless_train,model,eval_refusal=True,avg_samples=False)\n",
    "base_harmless_acc = np.mean(is_base_harmless)\n",
    "print (f'Base refusal on harmless dataset acc (single token): {base_harmless_acc:.2f}')\n",
    "\n",
    "is_base_harmful,_ = batch_single(harmful_train,model,eval_refusal=True,avg_samples=False)\n",
    "harmful_train = [x for x,y in zip(harmful_train,is_base_harmful) if y]\n",
    "print (f'Filtered harmful samples: {len(harmful_train)}')\n",
    "\n",
    "is_val_refusal,_ = batch_single(harmless_val,model,eval_refusal=True,avg_samples=False)\n",
    "# filter out\n",
    "harmless_train = [x for x,y in zip(harmless_train,is_base_harmless) if not y]\n",
    "harmless_val = [x for x,y in zip(harmless_val,is_val_refusal) if not y]\n",
    "\n",
    "print (f'Filtered harmless samples: {len(harmless_train)}, Val harmless samples: {len(harmless_val)}')\n",
    "\n",
    "## load jb bench/harmbench/advbench\n",
    "harm_ds_names = ['harmbench_test','jailbreakbench','advbench']\n",
    "harm_ds = {name:load_all_dataset(name,instructions_only=True)[:N_test] for name in harm_ds_names}\n",
    "\n",
    "bm_dir = f'cache/benchmarks'\n",
    "os.makedirs(bm_dir,exist_ok=True)\n",
    "bm_path = os.path.join(bm_dir,f'{model_name}_base.pkl')\n",
    "\n",
    "# base refusal perf. (use harmbench classifier)\n",
    "if not os.path.exists(bm_path):\n",
    "    base_harm_safety = {}\n",
    "    base_harm_refusal = {}\n",
    "    base_resps = {}\n",
    "    for harm_name,ds in tqdm(harm_ds.items(),total = len(harm_ds)):\n",
    "        base_resp = batch_generate(ds,model,bz = bz)\n",
    "        base_resps[harm_name] = base_resp\n",
    "        base_jb = harmbench_judge(ds,base_resp,hb_model)\n",
    "        base_refusal = np.mean([substring_matching_judge_fn(x) for x in base_resp])\n",
    "        print (f'Base refusal on {harm_name} jb: {base_jb:.2f}, refusal: {base_refusal:.2f}')\n",
    "        base_harm_safety[harm_name] = base_jb\n",
    "        base_harm_refusal[harm_name] = base_refusal\n",
    "\n",
    "    with open(bm_path,'wb') as f:\n",
    "        pickle.dump({'jb':base_harm_safety,'refusal':base_harm_refusal,'base_resps':base_resps},f)\n",
    "else:\n",
    "    with open(bm_path,'rb') as f:\n",
    "        data = pickle.load(f)\n",
    "        base_harm_safety = data['jb']\n",
    "        base_harm_refusal = data['refusal']\n",
    "        base_resps = data['base_resps']"
   ]
  },
  {
   "cell_type": "markdown",
   "id": "69a1e46e",
   "metadata": {},
   "source": [
    "# Activation Steering Perf"
   ]
  },
  {
   "cell_type": "code",
   "execution_count": 6,
   "id": "d98f8037",
   "metadata": {},
   "outputs": [
    {
     "name": "stdout",
     "output_type": "stream",
     "text": [
      "Steering vec on harmbench_test jb: 0.86, refusal: 0.01\n",
      "Steering vec on jailbreakbench jb: 0.83, refusal: 0.00\n",
      "Steering vec on advbench jb: 0.86, refusal: 0.00\n"
     ]
    }
   ],
   "source": [
    "bm_path = os.path.join(bm_dir,f'{model_name}_steer.pkl')\n",
    "best_layer = {'gemma-2b':15,'llama':11}[model_name] # what we gathered from CatQA - should generalize well\n",
    "steering_vec = {k: get_steering_vec(ds,harmless_train[:len(ds)],model) for k,ds in harm_ds.items()}\n",
    "\n",
    "train_steer_vec = get_steering_vec(harmful_train,harmless_train[:len(harmful_train)],model) # we use this to sweep hp\n",
    "\n",
    "if not os.path.exists(bm_path):\n",
    "    steer_harm_jb = {}\n",
    "    steer_harm_refusal = {}\n",
    "    steer_resps = {}\n",
    "    for k,ds in harm_ds.items():\n",
    "        steer_resp = batch_generate(ds,model,bz = bz,steering_fn = 'vec',steering_vec=steering_vec[k][best_layer])\n",
    "        steer_resps[k] = steer_resp\n",
    "        steer_harm_jb[k] = harmbench_judge(ds,steer_resp,hb_model)\n",
    "        steer_harm_refusal[k] = np.mean([substring_matching_judge_fn(x) for x in steer_resp])\n",
    "        print (f'Steering vec on {k} jb: {steer_harm_jb[k]:.2f}, refusal: {steer_harm_refusal[k]:.2f}')\n",
    "\n",
    "    with open(bm_path,'wb') as f:\n",
    "        pickle.dump({'jb':steer_harm_jb,'refusal':steer_harm_refusal,'steer_resps':steer_resps},f)\n",
    "else:\n",
    "    with open(bm_path,'rb') as f:\n",
    "        data = pickle.load(f)\n",
    "        steer_harm_jb = data['jb']\n",
    "        steer_harm_refusal = data['refusal']\n",
    "        steer_resps = data['steer_resps']"
   ]
  },
  {
   "cell_type": "code",
   "execution_count": null,
   "id": "a9dffa82",
   "metadata": {},
   "outputs": [
    {
     "name": "stderr",
     "output_type": "stream",
     "text": [
      "  0%|                                                                                                                                                                                                                                                                    | 0/3 [00:00<?, ?it/s]"
     ]
    }
   ],
   "source": [
    "# do linear attribution (for smarks) we also need to use this for our method\n",
    "la_bz = 5 if 'gemma-2b' in model_name else 3\n",
    "harm_attr =  {}\n",
    "for harm_name,ds in tqdm(harm_ds.items(),total = len(harm_ds)):\n",
    "    all_attr = []\n",
    "    for i in range(0,len(ds),la_bz):\n",
    "        attr,_,_ = linear_attribution(model,saes,ds[i:i+la_bz],steering_vec = steering_vec[harm_name][best_layer],interpolate_steps=10,ind_jailbreak=True)\n",
    "        all_attr.append(attr)\n",
    "    harm_attr[harm_name] = pad_sequence_3d(*all_attr)\n",
    "\n",
    "# ## Get for train set as well for HP search (if doing HP else comment out)\n",
    "train_attr = []\n",
    "for i in range(0,len(harmful_train),la_bz):\n",
    "    attr,_,_ = linear_attribution(model,saes,harmful_train[i:i+la_bz],steering_vec = train_steer_vec[best_layer],interpolate_steps=10,ind_jailbreak=False)\n",
    "    train_attr.append(attr)\n",
    "train_attr = pad_sequence_3d(*train_attr)"
   ]
  },
  {
   "cell_type": "markdown",
   "id": "bafc6d08",
   "metadata": {},
   "source": [
    "# HP search (optional)"
   ]
  },
  {
   "cell_type": "code",
   "execution_count": null,
   "id": "7ad1f153",
   "metadata": {},
   "outputs": [],
   "source": [
    "topk_feat_layer = 10\n",
    "\n",
    "if 'gemma-2b' in model_name:\n",
    "    topk_common = range(10,60,10) \n",
    "else:\n",
    "    topk_common = range(10,35,5)\n",
    "\n",
    "# clamp_val = -3 if 'gemma-2b' in model_name else -1\n",
    "clamp_range = [0,-1,-2,-3]\n",
    "hp_scores = []\n",
    "topk_feats = topk_feat_sim(saes,train_steer_vec[best_layer],topk_feat_layer)\n",
    "\n",
    "for clamp_val in tqdm(clamp_range,total = len(clamp_range)):\n",
    "    for topk_c in topk_common:\n",
    "        feat_dict = find_features(model,harmful_train,train_attr,topk_feats,topk=topk_c)['feat_dict']\n",
    "        sae_gen = batch_generate(harmful_train,model,bz,saes = saes,steering_fn = 'sae',circuit = feat_dict,fn_kwargs = {'val': clamp_val,'ind':True,'multiply':True},max_new_tokens=150)\n",
    "        sae_jb = harmbench_judge(harmful_train,sae_gen,hb_model)\n",
    "        hp_scores.append(sae_jb)\n",
    "\n",
    "hp_scores = np.array(hp_scores).reshape(len(clamp_range),len(topk_common))\n",
    "y_ticks = list(str(x) for x in clamp_range)\n",
    "x_ticks = list(str(x) for x in topk_common)\n",
    "plot_heatmap(hp_scores,x_ticks,y_ticks,xlabel = 'Top K Features',ylabel = 'Clamp Val',title = 'Safety Score')"
   ]
  },
  {
   "cell_type": "markdown",
   "id": "e704be81",
   "metadata": {},
   "source": [
    "# Get the feature set for the baselines"
   ]
  },
  {
   "cell_type": "code",
   "execution_count": null,
   "id": "690a00ee",
   "metadata": {},
   "outputs": [
    {
     "name": "stderr",
     "output_type": "stream",
     "text": [
      "100%|████████████████████████████████████████████████████████████████████████████████████████████████████████████████████████████████████████████████████████████████████████████████████████████████████████████████████████████████████████████████████████████| 3/3 [00:53<00:00, 17.86s/it]\n"
     ]
    }
   ],
   "source": [
    "topk = 20  # K^*\n",
    "topk_feat_layer = 10 # K\n",
    "clamp_val = -3 if 'gemma-2b' in model_name else -1 # c\n",
    "baseline_feats = defaultdict(dict)\n",
    "for harm_name,ds in tqdm(harm_ds.items(),total = len(harm_ds)):\n",
    "    # 1) Baseline 1 (topk feature with direction using cosine similarity)\n",
    "    cs_feats = topk_feat_from_cosine(steering_vec[harm_name][best_layer],saes,topk) \n",
    "    baseline_feats['cs'][harm_name] = cs_feats\n",
    "\n",
    "    # baseline 2 (topk feature using act diff between harmful and harmless)\n",
    "    act_feats = topk_feat_from_act_diff(ds,harmless_train,model,saes,topk,avg_seq='max')\n",
    "    baseline_feats['act'][harm_name] = act_feats"
   ]
  },
  {
   "cell_type": "code",
   "execution_count": 14,
   "id": "ca385940",
   "metadata": {},
   "outputs": [],
   "source": [
    "## Baseline 3 (topk feature using linear attribution)\n",
    "global_feat_dict = defaultdict(dict)\n",
    "\n",
    "for harm_name,attr in harm_attr.items():\n",
    "    la_feats = defaultdict(list)\n",
    "    avg_attr = torch.stack([v.mean(1) for k,v in sorted(attr.items(),key= lambda x: x[0])]).permute(1, 0, 2) # [bz layer feat] \n",
    "    for sample_idx in range(len(avg_attr)):\n",
    "        sample_feats = defaultdict(list)\n",
    "        topk_layers,topk_feats = topk2d(avg_attr[sample_idx],topk)\n",
    "        for l,f in zip(topk_layers,topk_feats):\n",
    "            sample_feats[l.item()].append(f.item())\n",
    "        for l,feats in sample_feats.items():\n",
    "            la_feats[l].append(feats) # is gonna be a list of lists of len dataset\n",
    "\n",
    "    global_attr = avg_attr.mean(0) # [layer,feat]\n",
    "    topk_layers,topk_feats = topk2d(global_attr,topk)\n",
    "        \n",
    "    global_la_f =  [(l,f) for l,f in zip(topk_layers.tolist(),topk_feats.tolist())]\n",
    "    global_la_feat_dict = defaultdict(list)\n",
    "    for l,f in global_la_f:\n",
    "        global_la_feat_dict[l].append(f)\n",
    "\n",
    "    baseline_feats['la'][harm_name] = la_feats\n",
    "    global_feat_dict['la'][harm_name] = global_la_feat_dict\n",
    "    \n",
    "    # Our approach\n",
    "    topk_feats_dict = topk_feat_sim(saes,steering_vec[harm_name][best_layer],topk_feat_layer)\n",
    "    feature_set_stuff = find_features(model,harm_ds[harm_name],attr,topk_feats_dict,topk=topk)\n",
    "    global_ours_feats = feature_set_stuff['global_feat_list']\n",
    "    global_ours_feat_dict = defaultdict(list)\n",
    "    for l,f in global_ours_feats:\n",
    "        global_ours_feat_dict[l].append(f)\n",
    "\n",
    "    baseline_feats['our'][harm_name] = feature_set_stuff['feat_dict']\n",
    "    global_feat_dict['our'][harm_name] = global_ours_feat_dict\n"
   ]
  },
  {
   "cell_type": "markdown",
   "id": "2b600bea",
   "metadata": {},
   "source": [
    "# 1) Benchmark"
   ]
  },
  {
   "cell_type": "code",
   "execution_count": 7,
   "id": "c5bdbed8",
   "metadata": {},
   "outputs": [],
   "source": [
    "bm_path = os.path.join(bm_dir,f'{model_name}_baseline.pkl')\n",
    "if not os.path.exists(bm_path):\n",
    "    fn_kwargs = {'val':clamp_val,'multiply':True}\n",
    "    baseline_jb_scores = defaultdict(dict)\n",
    "    baseline_refusal_scores = defaultdict(dict)\n",
    "    for harm_name,ds in tqdm(harm_ds.items(),total = len(harm_ds)): # over all harmful datasets\n",
    "        for baseline_name in baseline_feats.keys(): # over all baselines\n",
    "            b_feats = baseline_feats[baseline_name][harm_name]\n",
    "            if baseline_name in ['cs','act']:\n",
    "                fn_kwargs['ind']=False # is shared across samples\n",
    "            else:\n",
    "                fn_kwargs['ind']=True\n",
    "            baseline_resp = batch_generate(ds,model,bz = bz,saes=saes,steering_fn = 'sae',circuit = b_feats,fn_kwargs = fn_kwargs)\n",
    "            baseline_jb = harmbench_judge(ds,baseline_resp,hb_model)\n",
    "            baseline_jb_scores[harm_name][baseline_name] = baseline_jb\n",
    "            baseline_refusal_scores[harm_name][baseline_name]= np.mean([substring_matching_judge_fn(x) for x in baseline_resp])\n",
    "            print (f'Baseline ({baseline_name}) on {harm_name} JB: {baseline_jb_scores[harm_name][baseline_name]:.2f}')\n",
    "\n",
    "    # save it \n",
    "    bm_path = os.path.join(bm_dir,f'{model_name}_baseline.pkl')\n",
    "    with open(bm_path,'wb') as f:\n",
    "        pickle.dump({'jb':baseline_jb_scores,'refusal':baseline_refusal_scores},f)\n",
    "else:\n",
    "    with open(bm_path,'rb') as f:\n",
    "        baseline_bench = pickle.load(f)\n",
    "    baseline_jb_scores = baseline_bench['jb']\n",
    "    baseline_refusal_scores = baseline_bench['refusal']"
   ]
  },
  {
   "cell_type": "code",
   "execution_count": null,
   "id": "3ff33885",
   "metadata": {},
   "outputs": [
    {
     "name": "stdout",
     "output_type": "stream",
     "text": [
      "cs: {'harmbench_test': 0.1, 'jailbreakbench': 0.13, 'advbench': 0.04}\n",
      "act: {'harmbench_test': 0.12, 'jailbreakbench': 0.26, 'advbench': 0.44}\n",
      "la: {'harmbench_test': 0.27, 'jailbreakbench': 0.26, 'advbench': 0.29}\n",
      "our: {'harmbench_test': 0.72, 'jailbreakbench': 0.57, 'advbench': 0.82}\n",
      "base: {'harmbench_test': 0.0, 'jailbreakbench': 0.01, 'advbench': 0.0}\n",
      "steer: {'harmbench_test': 0.86, 'jailbreakbench': 0.83, 'advbench': 0.86}\n"
     ]
    }
   ],
   "source": [
    "# sort the scores\n",
    "combined_safety_scores = deepcopy(baseline_jb_scores)\n",
    "for k,v in base_harm_safety.items():\n",
    "    combined_safety_scores[k]['base'] = v\n",
    "for k,v in steer_harm_jb.items():\n",
    "    combined_safety_scores[k]['steer'] = v\n",
    "\n",
    "new_combined_safety_scores = defaultdict(dict)\n",
    "for k,v in combined_safety_scores.items():\n",
    "    for kk,vv in v.items():\n",
    "        new_combined_safety_scores[kk][k] = vv\n",
    "    \n",
    "combined_safety_scores = new_combined_safety_scores\n",
    "for k,v in combined_safety_scores.items():\n",
    "    print (f\"{k}: {v}\")"
   ]
  },
  {
   "cell_type": "markdown",
   "id": "8a60f572",
   "metadata": {},
   "source": [
    "# Plot Single"
   ]
  },
  {
   "cell_type": "code",
   "execution_count": 13,
   "id": "826d88b2",
   "metadata": {},
   "outputs": [
    {
     "data": {
      "image/png": "[encoded data removed]",
      "text/plain": [
       "<Figure size 1000x400 with 1 Axes>"
      ]
     },
     "metadata": {},
     "output_type": "display_data"
    }
   ],
   "source": [
    "# Prepare data\n",
    "import matplotlib.pyplot as plt\n",
    "key_mapping = {\n",
    "    'cs': 'CosSim',\n",
    "    'act': 'ActDiff',\n",
    "    'la': 'AP',\n",
    "    'base': 'Base',\n",
    "    'steer': 'AS',\n",
    "    'our': 'CosSim+AP (Ours)',\n",
    "}\n",
    "outer_keys = ['base','cs', 'act', 'la','our','steer']\n",
    "inner_keys = list(next(iter(combined_safety_scores.values())).keys())  # ['harmbench_test', 'jailbreakbench', 'advbench']\n",
    "\n",
    "num_groups = len(inner_keys)\n",
    "num_bars_per_group = len(outer_keys)\n",
    "\n",
    "# Set positions\n",
    "x = np.arange(num_groups)  # harmbench_test, jailbreakbench, advbench\n",
    "bar_width = 0.1  # adjust as needed\n",
    "\n",
    "# Create figure\n",
    "fig, ax = plt.subplots(figsize=(10, 4))\n",
    "\n",
    "# Plot each outer key as one series of bars\n",
    "for i, outer_key in enumerate(outer_keys):\n",
    "    values = [combined_safety_scores[outer_key][inner_key] for inner_key in inner_keys]\n",
    "    ax.bar(x + i * bar_width, values, width=bar_width, label=key_mapping[outer_key])\n",
    "\n",
    "# Configure x-axis\n",
    "ax.set_xticks(x + bar_width * (num_bars_per_group - 1) / 2)\n",
    "ax.set_xticklabels([x.capitalize().split('_')[0].strip() for x in inner_keys],fontsize=14)\n",
    "# set y fontsize\n",
    "ax.tick_params(axis='y', labelsize=14)\n",
    "# ax.set_xlabel('Dataset')\n",
    "ax.set_ylabel('Safety',fontsize=14)\n",
    "# ax.set_title('Grouped Bar Plot')\n",
    "ax.spines['top'].set_visible(False)\n",
    "ax.spines['right'].set_visible(False)\n",
    "\n",
    "# Add legend\n",
    "ax.legend(fontsize=12,ncol=3,loc = 'upper center')\n",
    "\n",
    "# Add grid\n",
    "ax.grid(True, axis='y', linestyle='--', alpha=0.7)\n",
    "\n",
    "# Show plot\n",
    "plt.tight_layout()\n",
    "plt.show()"
   ]
  },
  {
   "cell_type": "markdown",
   "id": "95cc4cac",
   "metadata": {},
   "source": [
    "# Plot both"
   ]
  },
  {
   "cell_type": "code",
   "execution_count": null,
   "id": "3b96a6d5",
   "metadata": {},
   "outputs": [
    {
     "name": "stdout",
     "output_type": "stream",
     "text": [
      "base: {'harmbench_test': 0.12, 'jailbreakbench': 0.020000000000000018, 'advbench': 0.040000000000000036}\n",
      "steer: {'harmbench_test': 0.9299999999999999, 'jailbreakbench': 0.91, 'advbench': 0.98}\n",
      "cs: {'harmbench_test': 0.87, 'jailbreakbench': 0.87, 'advbench': 0.82}\n",
      "act: {'harmbench_test': 0.45, 'jailbreakbench': 0.67, 'advbench': 0.77}\n",
      "la: {'harmbench_test': 0.71, 'jailbreakbench': 0.63, 'advbench': 0.63}\n",
      "our: {'harmbench_test': 0.82, 'jailbreakbench': 0.83, 'advbench': 0.74}\n"
     ]
    }
   ],
   "source": [
    "# load the other model as well\n",
    "other_model = 'llama'\n",
    "bm_dir = f'cache/benchmarks'\n",
    "base_path = os.path.join(bm_dir,f'{other_model}_base.pkl')\n",
    "combined_safety_scores2 = {}\n",
    "with open(base_path,'rb') as f:\n",
    "    base_scores = pickle.load(f)['jb']\n",
    "combined_safety_scores2['base'] = base_scores\n",
    "\n",
    "steer_path = os.path.join(bm_dir,f'{other_model}_steer.pkl')\n",
    "with open(steer_path,'rb') as f:\n",
    "    steer_scores = pickle.load(f)['jb']\n",
    "combined_safety_scores2['steer'] = steer_scores\n",
    "\n",
    "other_path = os.path.join(bm_dir,f'{other_model}_baseline.pkl')\n",
    "with open(other_path,'rb') as f:\n",
    "    baseline_jb_scores = pickle.load(f)['jb']\n",
    "\n",
    "sorted_ = defaultdict(dict)\n",
    "for k in ['cs','act','la','our']:\n",
    "    for ok in baseline_jb_scores.keys():\n",
    "        sorted_[k][ok] = baseline_jb_scores[ok][k]\n",
    "\n",
    "combined_safety_scores2.update(sorted_)\n",
    "\n",
    "for k,v in combined_safety_scores2.items():\n",
    "    print (f\"{k}: {v}\")"
   ]
  },
  {
   "cell_type": "code",
   "execution_count": 14,
   "id": "b4a3383b",
   "metadata": {},
   "outputs": [
    {
     "data": {
      "image/png": "[encoded data removed]",
      "text/plain": [
       "<Figure size 1200x500 with 2 Axes>"
      ]
     },
     "metadata": {},
     "output_type": "display_data"
    }
   ],
   "source": [
    "import seaborn as sns\n",
    "\n",
    "inner_keys = list(next(iter(combined_safety_scores.values())).keys())  # ['harmbench_test', 'jailbreakbench', 'advbench']\n",
    "\n",
    "# 1. Build tidy dataframe for plotting\n",
    "def data_to_df(data, model_label):\n",
    "    records = []\n",
    "    for outer_key in outer_keys:\n",
    "        for inner_key in inner_keys:\n",
    "            records.append({\n",
    "                \"Method\": key_mapping[outer_key],\n",
    "                \"Benchmark\": inner_key.capitalize().split('_')[0],\n",
    "                \"Score\": data[outer_key][inner_key],\n",
    "                \"Model\": model_label\n",
    "            })\n",
    "    return pd.DataFrame(records)\n",
    "\n",
    "df = pd.concat([\n",
    "    data_to_df(combined_safety_scores2, \"Llama\"),\n",
    "    data_to_df(combined_safety_scores, \"Gemma\")\n",
    "])\n",
    "\n",
    "# 2. Set seaborn style\n",
    "sns.set(style=\"darkgrid\", context=\"talk\")\n",
    "\n",
    "# 3. Plot grouped bars using barplot (loop over Models)\n",
    "fig, axes = plt.subplots(1, 2, figsize=(12, 5), sharey=True)\n",
    "models = [\"Gemma\", \"Llama\"]\n",
    "colors = sns.color_palette(\"deep\", n_colors=len(outer_keys))\n",
    "\n",
    "for ax, model in zip(axes, models):\n",
    "    df_sub = df[df[\"Model\"] == model]\n",
    "    # Draw each method's bars, with proper offset\n",
    "    x = np.arange(len(inner_keys))\n",
    "    bar_width = 0.12\n",
    "    for i, method in enumerate(key_mapping.values()):\n",
    "        vals = df_sub[df_sub[\"Method\"] == method][\"Score\"].values\n",
    "        ax.bar(x + i*bar_width, vals, width=bar_width, label=method, color=colors[i])\n",
    "    ax.set_xticks(x + bar_width*(len(outer_keys)-1)/2)\n",
    "    ax.set_xticklabels(df_sub[\"Benchmark\"].unique(), fontsize=13)\n",
    "    ax.set_title(model, fontsize=15, loc='center', pad=10)  # loc doesn't help with horizontal shifting\n",
    "    if model == \"Gemma\":\n",
    "        # Shift left by setting x < 0.5 (try 0.35 for a slight shift)\n",
    "        ax.title.set_position([0.35, 1.05])  # x, y (y > 1 lifts above plot, adjust as needed)\n",
    "    else:\n",
    "        ax.title.set_position([0.5, 1.05])   # Keep Llama centered\n",
    "    ax.tick_params(axis='y', labelsize=13)\n",
    "    ax.spines['top'].set_visible(False)\n",
    "    ax.spines['right'].set_visible(False)\n",
    "    ax.grid(axis='y', linestyle='--', alpha=0.7)\n",
    "\n",
    "# Shared y-axis label\n",
    "fig.text(0.015, 0.5, 'Jailbreak', va='center', ha='center', rotation='vertical', fontsize=14)\n",
    "\n",
    "# Shared legend\n",
    "handles, labels = axes[0].get_legend_handles_labels()\n",
    "fig.legend(handles, labels, loc='upper center', ncol=3, fontsize=12, frameon=False)\n",
    "\n",
    "fig.subplots_adjust(left=0.06, right=0.98, top=0.88, bottom=0.14, wspace=0.10)\n",
    "plt.show()"
   ]
  },
  {
   "cell_type": "markdown",
   "id": "d7a22976",
   "metadata": {},
   "source": [
    "# 2) CE loss on Alpaca and The Pile"
   ]
  },
  {
   "cell_type": "markdown",
   "id": "24e16712",
   "metadata": {},
   "source": [
    "Load the Pile and Alpaca ds"
   ]
  },
  {
   "cell_type": "code",
   "execution_count": 43,
   "id": "de81674d",
   "metadata": {},
   "outputs": [],
   "source": [
    "ce_test_size = 1000 # take 1000 samples\n",
    "pile_bz = 20\n",
    "_, _, _, alpaca_ds = load_refusal_datasets(val_size=ce_test_size)  # take 500 for CE loss\n",
    "num_pile_iter = ce_test_size//pile_bz\n",
    "pile_iterator = load_pile_iterator(pile_bz,model.tokenizer,device=model.cfg.device)"
   ]
  },
  {
   "cell_type": "markdown",
   "id": "1ac2bbee",
   "metadata": {},
   "source": [
    "Get the base responses for alpaca"
   ]
  },
  {
   "cell_type": "code",
   "execution_count": null,
   "id": "3e1ff4a3",
   "metadata": {},
   "outputs": [
    {
     "name": "stderr",
     "output_type": "stream",
     "text": [
      "16it [04:47, 17.99s/it]                                                                                                                \n"
     ]
    }
   ],
   "source": [
    "base_alpaca_outputs = batch_generate(alpaca_ds,model,bz = bz,saes=saes,steering_fn = None,max_new_tokens=256,use_tqdm=True)"
   ]
  },
  {
   "cell_type": "code",
   "execution_count": null,
   "id": "cf7887a8",
   "metadata": {},
   "outputs": [
    {
     "name": "stderr",
     "output_type": "stream",
     "text": [
      "100%|██████████████████████████████████████████████████████████████████████████████████████████████████| 20/20 [00:32<00:00,  1.63s/it]\n"
     ]
    },
    {
     "name": "stdout",
     "output_type": "stream",
     "text": [
      "Base Alpaca CE Loss: 0.331\n",
      "Base Pile CE Loss: 3.035\n"
     ]
    },
    {
     "name": "stderr",
     "output_type": "stream",
     "text": [
      "100%|███████████████████████████████████████████████████████████████████████████████████████████████████| 5/5 [14:22<00:00, 172.56s/it]\n"
     ]
    }
   ],
   "source": [
    "# Get base ce loss\n",
    "bz = 50\n",
    "\n",
    "base_alpaca_loss = get_ce_loss(alpaca_ds,base_alpaca_outputs,bz,model,use_tqdm=True)\n",
    "print (f'Base Alpaca CE Loss: {base_alpaca_loss:.3f}')\n",
    "\n",
    "base_pile_loss = []\n",
    "batch_no = 0\n",
    "for pile_inputs,loss_mask in pile_iterator:\n",
    "    if batch_no >= num_pile_iter:\n",
    "        break\n",
    "    base_pile_loss.append(get_input_ce_loss(pile_inputs,loss_mask,model))\n",
    "    batch_no += 1\n",
    "base_pile_loss = np.mean(base_pile_loss)\n",
    "print (f'Base Pile CE Loss: {base_pile_loss:.3f}')\n",
    "\n",
    "# do it for all the baselines\n",
    "all_baseline_names = ['steer']+ list(baseline_feats.keys())  # add steer\n",
    "baseline_alpaca_loss = {}\n",
    "baseline_pile_loss = {}\n",
    "for baseline_name in tqdm(all_baseline_names,total = len(all_baseline_names)):\n",
    "    baseline_avg_loss = defaultdict(list) # just avg the loss over features found over different harm datasets (make it simpler)\n",
    "    for harm_name in harm_ds.keys(): \n",
    "        model.reset_hooks()  # always reset\n",
    "        to_hook_fn = None\n",
    "        to_hook_args = None\n",
    "        if baseline_name == 'steer':\n",
    "            model.add_hook(resid_name_filter,partial(ablate_hook,vec = steering_vec[harm_name][best_layer]))\n",
    "        else:\n",
    "            fn_kwargs = {'ind':False,'val':clamp_val,'multiply':True}\n",
    "            if baseline_name in ['cs','act']:\n",
    "                feat_set = baseline_feats[baseline_name][harm_name]\n",
    "            else:\n",
    "                feat_set = global_feat_dict[baseline_name][harm_name] # take global feats\n",
    "            model.add_hook(resid_name_filter,partial(clamp_sae,saes = saes, circuit = feat_set,**fn_kwargs))\n",
    "        a_loss = get_ce_loss(alpaca_ds,base_alpaca_outputs,bz,model)\n",
    "\n",
    "        p_loss = []\n",
    "        batch_no = 0\n",
    "        for pile_inputs,loss_mask in pile_iterator:\n",
    "            if batch_no >= num_pile_iter:\n",
    "                break\n",
    "            p_loss.append(get_input_ce_loss(pile_inputs,loss_mask,model))\n",
    "            batch_no += 1\n",
    "        p_loss = np.mean(p_loss)\n",
    "        baseline_avg_loss['alpaca'].append(a_loss)\n",
    "        baseline_avg_loss['pile'].append(p_loss)\n",
    "    \n",
    "    baseline_alpaca_loss[baseline_name] = np.mean(baseline_avg_loss['alpaca'])\n",
    "    baseline_pile_loss[baseline_name] = np.mean(baseline_avg_loss['pile'])\n",
    "\n",
    "    print (f'Baseline ({baseline_name}) Alpaca CE Loss: {baseline_alpaca_loss[baseline_name]:.3f}')\n",
    "    print (f'Baseline ({baseline_name}) Pile CE Loss: {baseline_pile_loss[baseline_name]:.3f}')\n",
    "    \n",
    "model.reset_hooks()\n"
   ]
  },
  {
   "cell_type": "markdown",
   "id": "9a077fc7",
   "metadata": {},
   "source": [
    "# Eval Refusal on Alpaca"
   ]
  },
  {
   "cell_type": "code",
   "execution_count": null,
   "id": "cd83ea23",
   "metadata": {},
   "outputs": [
    {
     "name": "stderr",
     "output_type": "stream",
     "text": [
      "  0%|                                                                                                           | 0/1 [00:00<?, ?it/s]"
     ]
    },
    {
     "name": "stderr",
     "output_type": "stream",
     "text": [
      "2it [00:37, 18.71s/it]                                                                                                                \n",
      "  0%|                                                                                                           | 0/3 [00:00<?, ?it/s]"
     ]
    },
    {
     "name": "stdout",
     "output_type": "stream",
     "text": [
      "Base refusal score on harmbench_test: 0.01\n",
      "Steer refusal score on harmbench_test: 0.99\n",
      "SAE (cs), : defaultdict(<class 'list'>, {10: [0.01], 15: [0.02], 20: [0.03], 25: [0.1], 30: [0.17]})\n",
      "SAE (act), : defaultdict(<class 'list'>, {10: [0.01], 15: [0.01], 20: [0.01], 25: [0.01], 30: [0.02]})\n",
      "SAE (la), : defaultdict(<class 'list'>, {10: [0.02], 15: [0.01], 20: [0.01], 25: [0.02], 30: [0.03]})\n"
     ]
    },
    {
     "name": "stderr",
     "output_type": "stream",
     "text": [
      " 33%|████████████████████████████████▋                                                                 | 1/3 [05:34<11:08, 334.20s/it]"
     ]
    },
    {
     "name": "stdout",
     "output_type": "stream",
     "text": [
      "SAE (our), : defaultdict(<class 'list'>, {10: [0.13], 15: [0.46], 20: [0.82], 25: [0.98], 30: [1.0]})\n",
      "Base refusal score on jailbreakbench: 0.01\n",
      "Steer refusal score on jailbreakbench: 1.00\n",
      "SAE (cs), : defaultdict(<class 'list'>, {10: [0.01, 0.01], 15: [0.02, 0.01], 20: [0.03, 0.04], 25: [0.1, 0.1], 30: [0.17, 0.22]})\n",
      "SAE (act), : defaultdict(<class 'list'>, {10: [0.01, 0.01], 15: [0.01, 0.01], 20: [0.01, 0.01], 25: [0.01, 0.01], 30: [0.02, 0.01]})\n",
      "SAE (la), : defaultdict(<class 'list'>, {10: [0.02, 0.02], 15: [0.01, 0.02], 20: [0.01, 0.01], 25: [0.02, 0.08], 30: [0.03, 0.15]})\n"
     ]
    },
    {
     "name": "stderr",
     "output_type": "stream",
     "text": [
      " 67%|█████████████████████████████████████████████████████████████████▎                                | 2/3 [10:49<05:23, 323.19s/it]"
     ]
    },
    {
     "name": "stdout",
     "output_type": "stream",
     "text": [
      "SAE (our), : defaultdict(<class 'list'>, {10: [0.13, 0.05], 15: [0.46, 0.23], 20: [0.82, 0.48], 25: [0.98, 0.78], 30: [1.0, 0.93]})\n",
      "Base refusal score on advbench: 0.01\n",
      "Steer refusal score on advbench: 1.00\n",
      "SAE (cs), : defaultdict(<class 'list'>, {10: [0.01, 0.01, 0.01], 15: [0.02, 0.01, 0.01], 20: [0.03, 0.04, 0.04], 25: [0.1, 0.1, 0.1], 30: [0.17, 0.22, 0.22]})\n",
      "SAE (act), : defaultdict(<class 'list'>, {10: [0.01, 0.01, 0.01], 15: [0.01, 0.01, 0.01], 20: [0.01, 0.01, 0.01], 25: [0.01, 0.01, 0.01], 30: [0.02, 0.01, 0.01]})\n",
      "SAE (la), : defaultdict(<class 'list'>, {10: [0.02, 0.02, 0.01], 15: [0.01, 0.02, 0.01], 20: [0.01, 0.01, 0.01], 25: [0.02, 0.08, 0.02], 30: [0.03, 0.15, 0.03]})\n"
     ]
    },
    {
     "name": "stderr",
     "output_type": "stream",
     "text": [
      "100%|██████████████████████████████████████████████████████████████████████████████████████████████████| 3/3 [15:58<00:00, 319.56s/it]"
     ]
    },
    {
     "name": "stdout",
     "output_type": "stream",
     "text": [
      "SAE (our), : defaultdict(<class 'list'>, {10: [0.13, 0.05, 0.23], 15: [0.46, 0.23, 0.67], 20: [0.82, 0.48, 0.97], 25: [0.98, 0.78, 1.0], 30: [1.0, 0.93, 0.99]})\n"
     ]
    },
    {
     "name": "stderr",
     "output_type": "stream",
     "text": [
      "\n"
     ]
    }
   ],
   "source": [
    "refusal_alpaca_ds = alpaca_ds[:100]\n",
    "max_tokens = 100\n",
    "sae_clamp_range = range(10,35,5)\n",
    "\n",
    "refusal_alpaca_outputs = batch_generate(refusal_alpaca_ds,model,bz = bz,saes=saes,steering_fn = None,max_new_tokens=256,use_tqdm=True)\n",
    "\n",
    "all_base_refusal = []\n",
    "all_steer_refusal = []\n",
    "sae_refusal_scores = defaultdict(lambda: defaultdict(list))\n",
    "\n",
    "\n",
    "for dataset_name in tqdm(['harmbench_test','jailbreakbench','advbench'],total = 3):\n",
    "    ## Base refusal score\n",
    "    base_alpaca_gen = batch_generate(refusal_alpaca_ds,model,bz = bz,saes=saes,steering_fn = None,max_new_tokens=max_tokens)\n",
    "    base_refusal_score = np.mean([substring_matching_judge_fn(x) for x in base_alpaca_gen])\n",
    "    all_base_refusal.append(base_refusal_score)\n",
    "    print (f'Base refusal score on {dataset_name}: {base_refusal_score:.2f}')\n",
    "\n",
    "    ## Vec refusal score\n",
    "    custom_steer_fn = partial(steer_hook,vec = steering_vec[dataset_name][best_layer]) # steer_hook adds the vec\n",
    "    custom_steer_filter = lambda x: x == 'blocks.{l}.hook_resid_post'.format(l=best_layer) # only add in this layer.\n",
    "    steer_alpaca_gen = batch_generate(refusal_alpaca_ds,model,bz = bz,steering_fn = 'custom',custom_fn =custom_steer_fn, max_new_tokens=max_tokens,custom_filter = custom_steer_filter)\n",
    "    steer_refusal_score = np.mean([substring_matching_judge_fn(x) for x in steer_alpaca_gen])\n",
    "    all_steer_refusal.append(steer_refusal_score)\n",
    "    print (f'Steer refusal score on {dataset_name}: {steer_refusal_score:.2f}')\n",
    "\n",
    "    for sae_baseline in baseline_feats.keys():\n",
    "        if sae_baseline in ['cs','act']:\n",
    "            feat_set = baseline_feats[sae_baseline][dataset_name]\n",
    "        else:\n",
    "            feat_set = global_feat_dict[sae_baseline][dataset_name]\n",
    "        for clamp_val in sae_clamp_range:\n",
    "            sae_alpaca_gen = batch_generate(refusal_alpaca_ds,model,bz = bz,saes=saes,steering_fn = 'sae',circuit = feat_set,fn_kwargs = {'val': clamp_val,'ind':False,'multiply':False},max_new_tokens=100)\n",
    "            feat_refusal_score = np.mean([substring_matching_judge_fn(x) for x in sae_alpaca_gen])\n",
    "            sae_refusal_scores[sae_baseline][clamp_val].append(feat_refusal_score)\n",
    "        print (f'SAE ({sae_baseline}), : {sae_refusal_scores[sae_baseline]}')\n",
    "\n",
    "avg_sae_refusal_scores = defaultdict(list)\n",
    "for baseline_name,clamp_items in sae_refusal_scores.items():\n",
    "    for clamp_value,scores in sorted(clamp_items.items(),key=lambda x: x[0]): # sort by clamp value\n",
    "        avg_sae_refusal_scores[baseline_name].append(np.mean(scores))\n",
    "            \n",
    "all_base_refusal = np.mean(all_base_refusal)\n",
    "all_steer_refusal = np.mean(all_steer_refusal)\n",
    "\n",
    "all_alpaca_refusal_scores = {\n",
    "    'base': all_base_refusal,\n",
    "    'steer': all_steer_refusal,\n",
    "    **avg_sae_refusal_scores\n",
    "}\n",
    "cache = os.path.join(bm_dir,f'{model_name}_refusal.pkl')\n",
    "with open(cache,'wb') as f:\n",
    "    pickle.dump(all_alpaca_refusal_scores,f)\n",
    "\n"
   ]
  },
  {
   "cell_type": "code",
   "execution_count": null,
   "id": "24642ed7",
   "metadata": {},
   "outputs": [],
   "source": [
    "## plot single model\n",
    "plot_line_mpl(list(avg_sae_refusal_scores.values()),xlabel = 'Clamp',ylabel = 'Refusal',x_tick = [str(x) for x in list(sae_clamp_range)],hlines = [all_base_refusal,all_steer_refusal],hline_labels = ['Base','Steer'],labels = ['CosSim','ActDiff','AP','CosSim+AP (Ours)'],figsize = (12,6))"
   ]
  },
  {
   "cell_type": "code",
   "execution_count": null,
   "id": "6e350bc1",
   "metadata": {},
   "outputs": [],
   "source": [
    "# plot double model\n",
    "other_model = 'llama'\n",
    "other_model_path = os.path.join(bm_dir,f'{other_model}_refusal.pkl')\n",
    "\n",
    "with open(other_model_path,'rb') as f:\n",
    "    other_model_refusal_scores = pickle.load(f)\n",
    "\n",
    "all_alpaca_refusal_scores['base'] = [all_alpaca_refusal_scores['base']]*len(sae_clamp_range)\n",
    "all_alpaca_refusal_scores['steer'] = [all_alpaca_refusal_scores['steer']]*len(sae_clamp_range)\n",
    "\n",
    "other_model_refusal_scores['base'] = [other_model_refusal_scores['base']]*len(sae_clamp_range)\n",
    "other_model_refusal_scores['steer'] = [other_model_refusal_scores['steer']]*len(sae_clamp_range)\n",
    "\n",
    "data_list = [list(all_alpaca_refusal_scores.values()),list(other_model_refusal_scores.values())]\n",
    "figsize = (14,5)\n",
    "\n",
    "x_ticks = [list(range(10,35,5)),list(range(1,6))]\n",
    "\n",
    "labels = [['Base','AS','CosSim','ActDiff','AP','CosSim+AP (Ours)']]*2\n",
    "xlabel = 'Clamp Value'\n",
    "ylabel = 'Refusal'\n",
    "titles = ['Gemma','Llama']"
   ]
  },
  {
   "cell_type": "code",
   "execution_count": 115,
   "id": "ebdcc002",
   "metadata": {},
   "outputs": [
    {
     "data": {
      "image/png": "[encoded data removed]",
      "text/plain": [
       "<Figure size 1400x500 with 2 Axes>"
      ]
     },
     "metadata": {},
     "output_type": "display_data"
    }
   ],
   "source": [
    "assert len(data_list) == 2, \"This function supports exactly two subplots.\"\n",
    "\n",
    "fig, axes = plt.subplots(1, 2, figsize=figsize, sharey=True)\n",
    "\n",
    "label_color_map = {\n",
    "    'Base': '#1f77b4',           # blue\n",
    "    'CosSim': '#ff7f0e',         # orange\n",
    "    'ActDiff': '#2ca02c',        # green\n",
    "    'AP': '#d62728',             # red\n",
    "    'CosSim+AP (Ours)': '#9467bd',  # purple\n",
    "    'AS': '#8c564b'              # brown\n",
    "}\n",
    "\n",
    "# Collect handles for shared legend\n",
    "legend_handles = []\n",
    "legend_labels = []\n",
    "\n",
    "for i, data in enumerate(data_list):\n",
    "    ax = axes[i]\n",
    "    data = np.array(data)\n",
    "    if data.ndim == 1:\n",
    "        data = data.reshape(1, -1)\n",
    "\n",
    "    x_tick_i = x_ticks[i]\n",
    "\n",
    "    # Plot data lines\n",
    "    for j, d in enumerate(data):\n",
    "        lbl = labels[i][j] if labels is not None else None\n",
    "        line, = ax.plot(x_tick_i, d, label=lbl, linewidth=3,color = label_color_map[lbl])\n",
    "        if i == 0:  # Only collect from the first subplot to avoid duplicates\n",
    "            legend_handles.append(line)\n",
    "            legend_labels.append(lbl)\n",
    "\n",
    "\n",
    "    ax.set_xlabel(xlabel, fontsize=14)\n",
    "    if i == 0:\n",
    "        ax.set_ylabel(ylabel, fontsize=14)\n",
    "    ax.set_xticks(x_tick_i)\n",
    "    ax.tick_params(axis='both', labelsize=14)\n",
    "\n",
    "    if titles:\n",
    "        ax.set_title(titles[i], fontsize=15)\n",
    "\n",
    "    ax.grid(True)\n",
    "\n",
    "# Shared legend\n",
    "fig.legend(legend_handles, legend_labels, loc='upper center',\n",
    "            ncol=3, fontsize=13, bbox_to_anchor=(0.5, 1.05))\n",
    "\n",
    "plt.tight_layout(rect=[0, 0, 1, 0.95])  # leave space for legend\n",
    "plt.show()"
   ]
  },
  {
   "cell_type": "markdown",
   "id": "db387bc8",
   "metadata": {},
   "source": [
    "# General capabilities (GSM8K/ARC)"
   ]
  },
  {
   "cell_type": "code",
   "execution_count": 41,
   "id": "505b6ddd",
   "metadata": {},
   "outputs": [],
   "source": [
    "from utils.eval_capability import *\n",
    "gsm8k_ds = load_gsm8k()\n",
    "arc_ds = load_arc()"
   ]
  },
  {
   "cell_type": "code",
   "execution_count": null,
   "id": "3b9281d2",
   "metadata": {},
   "outputs": [],
   "source": [
    "gsm8k_bz = 16\n",
    "arc_bz = 32\n",
    "\n",
    "gsm8k_string = {}\n",
    "\n",
    "## Base gsm8k\n",
    "model.reset_hooks()\n",
    "base_string = eval_gsm8k(gsm8k_ds,model,gsm8k_bz,use_tqdm=True)\n",
    "gsm8k_string['base'] = base_string\n",
    "print (f'Base GSM8K string acc: {base_string:.2f}')\n",
    "\n",
    "# baselines\n",
    "all_baseline_names = ['steer']+ list(baseline_feats.keys())  # add steer\n",
    "for baseline_name in tqdm(all_baseline_names,total = len(all_baseline_names)):\n",
    "    all_gsm8k_string = []\n",
    "    for harm_name in harm_ds.keys(): \n",
    "        model.reset_hooks()\n",
    "        if baseline_name == 'steer':\n",
    "            model.add_hook(resid_name_filter,partial(ablate_hook,vec = steering_vec[harm_name][best_layer]))\n",
    "        else:\n",
    "            fn_kwargs = {'ind':False,'val':clamp_val,'multiply':True}\n",
    "            if baseline_name in ['cs','act']:\n",
    "                feat_set = baseline_feats[baseline_name][harm_name]\n",
    "            else:\n",
    "                feat_set = global_feat_dict[baseline_name][harm_name] # take global feats\n",
    "            model.add_hook(resid_name_filter,partial(clamp_sae,saes = saes, circuit = feat_set,**fn_kwargs))\n",
    "        \n",
    "        baseline_string = eval_gsm8k(gsm8k_ds,model,gsm8k_bz,use_tqdm=True)\n",
    "        all_gsm8k_string.append(baseline_string)\n",
    "    gsm8k_string[baseline_name] = np.mean(all_gsm8k_string)\n",
    "model.reset_hooks()\n",
    "\n",
    "for k,v in gsm8k_string.items():\n",
    "    print (f'{k} Acc: {v:.2f}')\n",
    "\n"
   ]
  },
  {
   "cell_type": "code",
   "execution_count": null,
   "id": "35cbcb96",
   "metadata": {},
   "outputs": [
    {
     "name": "stderr",
     "output_type": "stream",
     "text": [
      "37it [00:30,  1.21it/s]                                                                                                             \n",
      "100%|█████████████████████████████████████████████████████████████████████████████████████████████████| 5/5 [04:50<00:00, 58.17s/it]"
     ]
    },
    {
     "name": "stdout",
     "output_type": "stream",
     "text": [
      "base ARC acc: 0.82\n",
      "steer ARC acc: 0.81\n",
      "cs ARC acc: 0.78\n",
      "act ARC acc: 0.79\n",
      "la ARC acc: 0.79\n",
      "our ARC acc: 0.77\n"
     ]
    },
    {
     "name": "stderr",
     "output_type": "stream",
     "text": [
      "\n"
     ]
    }
   ],
   "source": [
    "model.reset_hooks()\n",
    "arc_scores = {}\n",
    "arc_scores['base'] = eval_arc(arc_ds,model,arc_bz,use_tqdm=True)\n",
    "\n",
    "all_baseline_names = ['steer']+ list(baseline_feats.keys())  # add steer\n",
    "for baseline_name in tqdm(all_baseline_names,total = len(all_baseline_names)):\n",
    "    all_arc_scores = []\n",
    "    for harm_name in harm_ds.keys(): \n",
    "        model.reset_hooks()\n",
    "        if baseline_name == 'steer':\n",
    "            model.add_hook(resid_name_filter,partial(ablate_hook,vec = steering_vec[harm_name][best_layer]))\n",
    "        else:\n",
    "            fn_kwargs = {'ind':False,'val':clamp_val,'multiply':True}\n",
    "            if baseline_name in ['cs','act']:\n",
    "                feat_set = baseline_feats[baseline_name][harm_name]\n",
    "            else:\n",
    "                feat_set = global_feat_dict[baseline_name][harm_name] # take global feats\n",
    "            model.add_hook(resid_name_filter,partial(clamp_sae,saes = saes, circuit = feat_set,**fn_kwargs))\n",
    "        all_arc_scores.append(eval_arc(arc_ds,model,arc_bz,use_tqdm=False))\n",
    "    arc_scores[baseline_name] = np.mean(all_arc_scores)\n",
    "model.reset_hooks()\n",
    "\n",
    "for k,v in arc_scores.items():\n",
    "    print (f'{k} ARC acc: {v:.2f}')"
   ]
  }
 ],
 "metadata": {
  "kernelspec": {
   "display_name": "Python 3 (ipykernel)",
   "language": "python",
   "name": "python3"
  },
  "language_info": {
   "codemirror_mode": {
    "name": "ipython",
    "version": 3
   },
   "file_extension": ".py",
   "mimetype": "text/x-python",
   "name": "python",
   "nbconvert_exporter": "python",
   "pygments_lexer": "ipython3",
   "version": "3.10.0"
  }
 },
 "nbformat": 4,
 "nbformat_minor": 5
}
