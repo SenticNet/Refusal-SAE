{
 "cells": [
  {
   "cell_type": "markdown",
   "id": "e6409ad1",
   "metadata": {},
   "source": [
    "# Math"
   ]
  },
  {
   "cell_type": "code",
   "execution_count": 1,
   "id": "d6327b7d",
   "metadata": {},
   "outputs": [
    {
     "name": "stdout",
     "output_type": "stream",
     "text": [
      "INFO 04-08 17:46:12 __init__.py:190] Automatically detected platform cuda.\n"
     ]
    },
    {
     "data": {
      "text/plain": [
       "<torch.autograd.grad_mode.set_grad_enabled at 0x15542787b6a0>"
      ]
     },
     "execution_count": 1,
     "metadata": {},
     "output_type": "execute_result"
    }
   ],
   "source": [
    "from utils.utils import *\n",
    "from utils.plot_utils import *\n",
    "from utils.data_utils import *\n",
    "from utils.eval_refusal import *\n",
    "from utils.attribution_utils import *\n",
    "from tqdm import tqdm\n",
    "from collections import defaultdict,Counter\n",
    "import os\n",
    "from utils.gemmascope import JumpReLUSAE_Base,get_optimal_file\n",
    "from sae_lens import SAE\n",
    "from transformer_lens import utils, HookedTransformer\n",
    "import numpy as np\n",
    "import torch.nn.functional as F\n",
    "from einops import einsum\n",
    "import pickle\n",
    "from copy import deepcopy\n",
    "import requests\n",
    "import pandas as pd\n",
    "import gc\n",
    "with open('openai_key.txt','r') as f:\n",
    "    openai_key = f.read().strip()\n",
    "os.environ['OPENAI_API_KEY'] = openai_key\n",
    "\n",
    "seed = 42\n",
    "torch.manual_seed(seed)\n",
    "np.random.seed(seed)\n",
    "torch.set_grad_enabled(False) # rmb set to true for grads"
   ]
  },
  {
   "cell_type": "code",
   "execution_count": null,
   "id": "ded87d55",
   "metadata": {},
   "outputs": [
    {
     "data": {
      "application/vnd.jupyter.widget-view+json": {
       "model_id": "6d71fbb2a1214cb491039a9ebb66a82d",
       "version_major": 2,
       "version_minor": 0
      },
      "text/plain": [
       "Loading checkpoint shards:   0%|          | 0/3 [00:00<?, ?it/s]"
      ]
     },
     "metadata": {},
     "output_type": "display_data"
    },
    {
     "name": "stderr",
     "output_type": "stream",
     "text": [
      "WARNING:root:With reduced precision, it is advised to use `from_pretrained_no_processing` instead of `from_pretrained`.\n"
     ]
    },
    {
     "name": "stdout",
     "output_type": "stream",
     "text": [
      "Loaded pretrained model google/gemma-2-2b into HookedTransformer\n"
     ]
    }
   ],
   "source": [
    "# Load model and SAE\n",
    "\n",
    "device = 'cuda:0'\n",
    "torch_dtype = torch.bfloat16\n",
    "model_name = \"google/gemma-2-2b\"\n",
    "model = HookedTransformer.from_pretrained(\n",
    "    model_name,\n",
    "    center_unembed=False,\n",
    "    center_writing_weights=False,\n",
    "    fold_ln=True,\n",
    "    refactor_factored_attn_matrices=False,\n",
    "    default_padding_side = 'left',\n",
    "    default_prepend_bos = True,\n",
    "    torch_dtype = torch_dtype,\n",
    "    device = device\n",
    ")  \n",
    "model.tokenizer.add_bos_token=True\n",
    "\n",
    "# Load sae\n",
    "size = '65k' if 'gemma' in model_name else '32k'\n",
    "sae_layers = model.cfg.n_layers\n",
    "saes = {}\n",
    "comps = ['res']\n",
    "\n",
    "sae_naming = {\n",
    "    'res': 'blocks.{l}.hook_resid_post',\n",
    "    'mlp': 'blocks.{l}.hook_mlp_post',\n",
    "    'attn': 'blocks.{l}.attn.hook_z',\n",
    "}\n",
    "for comp in comps:\n",
    "    sae_key_fn = sae_naming[comp]\n",
    "    for layer in range(sae_layers):\n",
    "        if 'gemma' in model_name:\n",
    "            repo_id = f\"google/gemma-scope-2b-pt-res\"\n",
    "            sae_path = get_optimal_file(repo_id, layer,size)\n",
    "            saes[sae_key_fn.format(l=layer)] = JumpReLUSAE_Base.from_pretrained(repo_id, sae_path, device).to(torch_dtype).to(device)\n",
    "        else:\n",
    "            sae,_,_=SAE.from_pretrained(release=\"llama_scope_lxr_8x\", sae_id=f\"l{layer}r_8x\", device=device)\n",
    "            saes[sae_key_fn.format(l=layer)] = sae.to(torch_dtype)\n"
   ]
  },
  {
   "cell_type": "code",
   "execution_count": 3,
   "id": "2c09b021",
   "metadata": {},
   "outputs": [],
   "source": [
    "from IPython.display import IFrame\n",
    "saes_descriptions = defaultdict(defaultdict)\n",
    "comps = ['res']\n",
    "\n",
    "if 'gemma' in model_name.lower(): # llama cant export for some reason, only can take ad-hoc feature\n",
    "    url = f\"https://www.neuronpedia.org/api/explanation/export?modelId=gemma-2-2b&saeId={layer}-gemmascope-{comp}-{size}\"\n",
    "    neuropedia_path = f'{\"gemma\" if \"gemma\" in model_name.lower() else \"llama\"}_res_neuropedia.pkl'\n",
    "    if not os.path.exists(neuropedia_path): # takes 5 min, just cache them for later use.\n",
    "        for layer in tqdm(range(model.cfg.n_layers),total = model.cfg.n_layers):\n",
    "            for comp in comps:\n",
    "                \n",
    "                headers = {\"Content-Type\": \"application/json\"}\n",
    "\n",
    "                response = requests.get(url, headers=headers)\n",
    "                data = response.json()\n",
    "                explanations_df = pd.DataFrame(data)\n",
    "                # # rename index to \"feature\"\n",
    "                explanations_df.rename(columns={\"index\": \"feature\"}, inplace=True)\n",
    "                explanations_df[\"feature\"] = explanations_df[\"feature\"].astype(int)\n",
    "                explanations_df[\"description\"] = explanations_df[\"description\"].apply(\n",
    "                    lambda x: x.lower()\n",
    "                )\n",
    "                saes_descriptions[layer][comp] = explanations_df\n",
    "        with open(neuropedia_path,'wb') as f:\n",
    "            pickle.dump(saes_descriptions,f)\n",
    "    else:\n",
    "        with open(neuropedia_path,'rb') as f:\n",
    "            saes_descriptions = pickle.load(f)\n",
    "\n",
    "def get_feat_description(feat,layer,comp = 'res'): # get the description given feature and layer\n",
    "    if 'gemma' in model_name:\n",
    "        df = saes_descriptions[layer][comp]\n",
    "        try:\n",
    "            return df[df[\"feature\"] == feat][\"description\"].iloc[0]\n",
    "        except:\n",
    "            return \"No description found\"\n",
    "    else:\n",
    "        api_url = \"https://www.neuronpedia.org/api/feature/llama3.1-8b/{l}-llamascope-res-{size}/{f}\"\n",
    "        try:\n",
    "            data = requests.get(api_url.format(l=layer,f=feat,size= size)).json()\n",
    "            return data[\"explanations\"][0][\"description\"]\n",
    "        except:\n",
    "            return \"No description found\"\n",
    "\n",
    "html_template = \"https://neuronpedia.org/{}/{}/{}?embed=true&embedexplanation=true&embedplots=true&embedtest=true&height=300\"\n",
    "\n",
    "def get_dashboard_html(model = \"gemma-2-2b\", layer=0, feature_idx=0):\n",
    "    html_ = html_template.format(model, f'{layer}-{\"gemmascope\" if \"gemma\" in model else \"llamascope\"}-res-{size}', feature_idx)\n",
    "    return html_\n",
    "\n",
    "def get_max_act_approx(layer, feature_idx): # some fn to get the max act of a feature\n",
    "    url = f\"https://www.neuronpedia.org/api/feature/{'gemma-2-2b' if 'gemma' in model_name else 'llama3.1-8b'}/{layer}-{'gemmascope' if 'gemma' in model_name else 'llamascope'}-res-{size}/{feature_idx}\"\n",
    "\n",
    "    headers = {\"X-Api-Key\": \"YOUR_SECRET_TOKEN\"}\n",
    "\n",
    "    response = requests.get(url, headers=headers)\n",
    "\n",
    "    return response.json()['maxActApprox']"
   ]
  },
  {
   "cell_type": "code",
   "execution_count": 14,
   "id": "0148bf16",
   "metadata": {},
   "outputs": [],
   "source": [
    "from collections import namedtuple\n",
    "from typing import Any, Callable, Literal, TypeAlias\n",
    "AnsConfig = namedtuple(\"AnsConfig\", [\"a\", \"b\", \"operation\", \"ans\",\"a_ans\"])\n",
    "\n",
    "def prompt_generator(\n",
    "    n_range: int = 100,\n",
    "    op: list[str] = [\"plus\"],\n",
    "    n_batch: int = 100,\n",
    "    return_type: Literal[\"string\", \"token\"] = \"string\",\n",
    "    write_to_file: bool = False,\n",
    "    file_path: str = \"addition_prompts.txt\",\n",
    "    with_instructions: bool = False,\n",
    ") -> tuple[list[str], list[AnsConfig]]:\n",
    "    \"\"\"\n",
    "    Generates a list of arithmetic questions and their answers.\n",
    "    \"\"\"\n",
    "    a = torch.randint(0, n_range, (n_batch,))\n",
    "    aa = a + 10\n",
    "    b = torch.randint(0, n_range, (n_batch,))\n",
    "    \n",
    "    a_instr = torch.randint(0, n_range, (n_batch,))\n",
    "    b_instr = torch.randint(0, n_range, (n_batch,))\n",
    "    \n",
    "    ans_list = []\n",
    "    q_list = []\n",
    "    \n",
    "    \n",
    "    with open(file_path, \"w\") as f:\n",
    "        for i in range(n_batch):\n",
    "            \n",
    "            operation = random.choice(op)\n",
    "\n",
    "            # log the correct answer\n",
    "            if operation == \"plus\":\n",
    "                answer = a[i] + b[i]\n",
    "                inst_answer = a_instr[i] + b_instr[i]\n",
    "                alt_answer = aa[i] + b[i]\n",
    "            elif operation == \"minus\":\n",
    "                answer = a[i] - b[i]\n",
    "                inst_answer = a_instr[i] - b_instr[i]\n",
    "                alt_answer = aa[i] - b[i]\n",
    "            elif operation == \"times\":\n",
    "                answer = a[i] * b[i]\n",
    "                inst_answer = a_instr[i] * b_instr[i]\n",
    "                alt_answer = aa[i] * b[i]\n",
    "            # elif operation == \"divided by\":\n",
    "            #     answer = a[i] / b[i]\n",
    "            \n",
    "            if with_instructions:\n",
    "                q_list.append(\n",
    "                    f\"{a_instr[i].item()} {operation} {b_instr[i].item()} is {inst_answer.item()}, {a[i].item()} {operation} {b[i].item()} is\"\n",
    "                )\n",
    "            else:\n",
    "                q_list.append(\n",
    "                    (f\"{a[i].item()} {operation} {b[i].item()} is\",f\"{aa[i].item()} {operation} {b[i].item()} is\")\n",
    "                )\n",
    "\n",
    "            if write_to_file:\n",
    "                f.write(q_list[-1] + \"\\n\")\n",
    "            \n",
    "            ans_list.append(\n",
    "                AnsConfig(\n",
    "                    a=a[i].item(),\n",
    "                    b=b[i].item(),\n",
    "                    operation=operation,\n",
    "                    ans=answer.item(),\n",
    "                    a_ans=alt_answer.item()\n",
    "                )\n",
    "            )\n",
    "    \n",
    "    return q_list, ans_list\n",
    "\n",
    "### Testing functionality\n",
    "q_list, a_list = prompt_generator(with_instructions=False, n_batch=10)"
   ]
  },
  {
   "cell_type": "code",
   "execution_count": null,
   "id": "c315468b",
   "metadata": {},
   "outputs": [
    {
     "name": "stdout",
     "output_type": "stream",
     "text": [
      "9\n",
      "1\n",
      "['97', '100', '102', '164', '58', '66', '66', '46', '106', '102']\n",
      "['107', '110', '112', '174', '68', '76', '76', '56', '116', '112']\n"
     ]
    }
   ],
   "source": [
    "clean_prompts = [x[0] for x in q_list]\n",
    "corrupt_prompts = [x[1] for x in q_list]\n",
    "\n",
    "clean_ans = [str(x.ans) for x in a_list]\n",
    "corrupt_ans = [str(x.a_ans) for x in a_list]\n",
    "\n",
    "clean_ans_logit = [model.tokenizer.encode(x,add_special_tokens=False)[0] for x in clean_ans]\n",
    "corrupt_ans_logit = [model.tokenizer.encode(x,add_special_tokens=False)[0] for x in corrupt_ans]\n"
   ]
  },
  {
   "cell_type": "code",
   "execution_count": 66,
   "id": "deeff74b",
   "metadata": {},
   "outputs": [
    {
     "name": "stdout",
     "output_type": "stream",
     "text": [
      "['97', '100', '102', '164', '58', '66', '66', '46', '106', '102']\n",
      "['107', '110', '112', '174', '68', '76', '76', '56', '116', '112']\n"
     ]
    }
   ],
   "source": [
    "print (clean_ans)\n",
    "print (corrupt_ans)"
   ]
  },
  {
   "cell_type": "code",
   "execution_count": 45,
   "id": "7ea10774",
   "metadata": {},
   "outputs": [],
   "source": [
    "def linear_attribution(model,saes,ds,interpolate_steps = 1):\n",
    "    \"\"\"\n",
    "    Use linear attribution to get the features for each token\n",
    "    \"\"\"\n",
    "\n",
    "    clean_prompts = [x['clean_prompt'] for x in ds]\n",
    "    corrupt_prompts = [x['corrupt_prompt'] for x in ds]\n",
    "    clean_id = [x['clean_ans'] for x in ds]\n",
    "    corrupt_id = [x['corrupt_ans'] for x in ds]\n",
    "\n",
    "    def metric_fn(x):\n",
    "        clean_logit = x[torch.arange(x.shape[0]),-1,clean_id]\n",
    "        corrupt_logit = x[torch.arange(x.shape[0]),-1,corrupt_id]\n",
    "        return corrupt_logit - clean_logit\n",
    "    \n",
    "    clean_input_ids = model.tokenizer(clean_prompts,return_tensors='pt',padding='longest').to(model.cfg.device)\n",
    "    corrupt_input_ids = model.tokenizer(corrupt_prompts,return_tensors='pt',padding='longest').to(model.cfg.device)\n",
    "    \n",
    "    patch_cache = defaultdict(dict)\n",
    "    clean_cache = {}\n",
    "    with torch.no_grad():\n",
    "        # Get patch = steered states\n",
    "        model.reset_hooks()\n",
    "        model.add_hook(resid_name_filter,partial(store_sae_feat,saes = saes,cache = patch_cache,store_error=True))\n",
    "        _ = model(corrupt_input_ids.input_ids,attention_mask = corrupt_input_ids.attention_mask)\n",
    "        model.reset_hooks()\n",
    "\n",
    "        # get clean\n",
    "        model.add_hook(resid_name_filter,partial(store_sae_feat,saes = saes,cache = clean_cache))\n",
    "        _ = model(clean_input_ids.input_ids,attention_mask = clean_input_ids.attention_mask)\n",
    "        model.reset_hooks()\n",
    "    \n",
    "    torch.set_grad_enabled(True) # allow grads\n",
    "    # get grads (interpolate average across steps)\n",
    "    all_grads = defaultdict(list)\n",
    "    for step in range(interpolate_steps):\n",
    "        model.reset_hooks()\n",
    "        alpha = step/interpolate_steps\n",
    "        grad_cache = {}\n",
    "        model.add_hook(resid_name_filter,partial(sae_grad_patch_IG,grad_cache = grad_cache,saes=saes,patch_cache = patch_cache,alpha=alpha))\n",
    "        model.add_hook(resid_name_filter,sae_bwd_hook,'bwd')\n",
    "        logits = model(clean_input_ids.input_ids,attention_mask = clean_input_ids.attention_mask)\n",
    "        loss = metric_fn(logits).mean()\n",
    "        logits.grad = None\n",
    "        for v in grad_cache.values():\n",
    "            v.grad = None\n",
    "        loss.backward()\n",
    "        with torch.no_grad():\n",
    "            for l,acts in grad_cache.items():\n",
    "                all_grads[l].append(acts.grad.detach())\n",
    "        del grad_cache\n",
    "        torch.cuda.empty_cache()\n",
    "    all_grads = {k:torch.stack(v).mean(0) for k,v in all_grads.items()}\n",
    "    attrs = {}\n",
    "\n",
    "    for l,clean_acts in clean_cache.items():\n",
    "        delt = patch_cache['feat'][l] - clean_acts\n",
    "        attrs[l] = (delt * all_grads[l]).detach().cpu()\n",
    "    \n",
    "    model.reset_hooks()\n",
    "    del patch_cache\n",
    "    del clean_cache\n",
    "    del all_grads\n",
    "    torch.set_grad_enabled(False)\n",
    "    clear_mem()\n",
    "    return attrs"
   ]
  },
  {
   "cell_type": "code",
   "execution_count": 70,
   "id": "25290a60",
   "metadata": {},
   "outputs": [
    {
     "name": "stdout",
     "output_type": "stream",
     "text": [
      "1.0\n"
     ]
    }
   ],
   "source": [
    "# Check acc\n",
    "clean_prompts_inps = model.tokenizer([x +' ' for x in clean_prompts],return_tensors='pt',padding='longest').to(model.cfg.device)\n",
    "clean_logit = model(clean_prompts_inps.input_ids,attention_mask = clean_prompts_inps.attention_mask)[:,-1].argmax(-1).detach().cpu().tolist()\n",
    "\n",
    "print (np.mean([x == y for x,y in zip(clean_logit,clean_ans_logit)]))"
   ]
  },
  {
   "cell_type": "code",
   "execution_count": 46,
   "id": "b30e33cb",
   "metadata": {},
   "outputs": [],
   "source": [
    "ds = [{'clean_prompt': clean_prompts[i],'corrupt_prompt': corrupt_prompts[i],'clean_ans': clean_ans_logit[i],'corrupt_ans': corrupt_ans_logit[i]} for i in range(len(clean_prompts))]\n",
    "\n",
    "circuit = linear_attribution(model,saes,ds,interpolate_steps = 10)"
   ]
  },
  {
   "cell_type": "code",
   "execution_count": 67,
   "id": "4f758606",
   "metadata": {},
   "outputs": [
    {
     "name": "stdout",
     "output_type": "stream",
     "text": [
      "Number of features above threshold: 15.6\n"
     ]
    }
   ],
   "source": [
    "threshold = 0.01\n",
    "threshold_cir,n_feats = create_circuit_mask(circuit,threshold,clamp_val = 0,device = model.cfg.device)\n",
    "print (f\"Number of features above threshold: {n_feats}\")\n"
   ]
  },
  {
   "cell_type": "code",
   "execution_count": 69,
   "id": "a1bdec13",
   "metadata": {},
   "outputs": [
    {
     "name": "stdout",
     "output_type": "stream",
     "text": [
      "Prompt: 27 plus 70 is\n"
     ]
    },
    {
     "data": {
      "image/png": "[encoded data removed]",
      "text/plain": [
       "<Figure size 1400x600 with 1 Axes>"
      ]
     },
     "metadata": {},
     "output_type": "display_data"
    },
    {
     "name": "stdout",
     "output_type": "stream",
     "text": [
      "Layer 1, Feature 31864, tokens: ['2'],description: numerical values\n",
      "Layer 2, Feature 297, tokens: ['2'],description:  numerical values, particularly in forms of measurements or identifiers\n",
      "Layer 3, Feature 33275, tokens: ['2'],description:  numerical values, particularly those that are significant or used in various contexts\n",
      "Layer 5, Feature 39350, tokens: ['2'],description: references to dates or numerical data\n",
      "Layer 6, Feature 17003, tokens: ['2'],description:  occurrences of numeric representations and mathematical functions\n",
      "Layer 7, Feature 56376, tokens: ['2'],description:  numeric values\n",
      "Layer 9, Feature 40150, tokens: ['2'],description:  numerical identifiers or designations in mathematical contexts\n",
      "Layer 10, Feature 26348, tokens: ['2'],description:  patterns and relationships in mathematical expressions\n",
      "Layer 11, Feature 22636, tokens: ['2'],description: numbers and mathematical concepts, particularly involving prime factors\n",
      "Layer 13, Feature 48615, tokens: ['2'],description:  references to the version numbers of python packages or libraries\n",
      "Layer 2, Feature 1654, tokens: ['7'],description:  numerical values related to legal or procedural concepts\n",
      "Layer 2, Feature 2288, tokens: ['7'],description:  numerical values and statistics related to age, ratings, or percentages\n",
      "Layer 20, Feature 1339, tokens: ['▁is'],description: negative numerical values and their context in discussions\n",
      "Layer 25, Feature 4448, tokens: ['▁is'],description:  mathematical expressions involving derivatives and calculations\n"
     ]
    }
   ],
   "source": [
    "encoded_input = model.tokenizer(clean_prompts,return_tensors='pt',padding='longest').input_ids\n",
    "\n",
    "sae_circuit_list,encoded_input = circuit_tolist(threshold_cir,encoded_input,remove_padding=True,ignore_bos = True)\n",
    "sample_id = 0\n",
    "sample_circuit = sae_circuit_list[sample_id]\n",
    "sample_tokens = model.tokenizer.convert_ids_to_tokens(encoded_input[sample_id])\n",
    "\n",
    "all_feats = []\n",
    "token_feats_counts = []\n",
    "feat_to_tokens = defaultdict(list)\n",
    "for j,xx in enumerate(sample_circuit):\n",
    "    all_feats.extend(xx)\n",
    "    token_feats_counts.append(len(xx))\n",
    "    for x in xx:\n",
    "        feat_to_tokens[x].append(sample_tokens[j])\n",
    "\n",
    "print (f'Prompt: {clean_prompts[sample_id]}')\n",
    "plot_bar(token_feats_counts, x_tick=[str(x) if x != '\\n' else '<newline>' for x in sample_tokens], ylabel='Num feats', xlabel='Tokens', title='Num feats per token')\n",
    "\n",
    "for l,f in all_feats:\n",
    "    print (f'Layer {l}, Feature {f}, tokens: {feat_to_tokens[(l,f)]},description: {get_feat_description(f,l)}')"
   ]
  },
  {
   "cell_type": "code",
   "execution_count": null,
   "id": "c2ed94b6",
   "metadata": {},
   "outputs": [],
   "source": []
  }
 ],
 "metadata": {
  "kernelspec": {
   "display_name": "Python 3 (ipykernel)",
   "language": "python",
   "name": "python3"
  }
 },
 "nbformat": 4,
 "nbformat_minor": 5
}
